{
 "cells": [
  {
   "cell_type": "markdown",
   "id": "a51f17aa",
   "metadata": {},
   "source": [
    "## Ngrams lab\n",
    "LLM's and ChatGPT | Fall 2023 | McSweeney | CUNY Graduate Center\n",
    "\n",
    "**Due:** September 17\n",
    "\n",
    "\n",
    "### Background\n",
    "The purpose of this lab is to explore ngram models. Ngram models are a good introduction to language models generally. Language models are probabilistic representations of language. Ngrams have the benefit of being easy to interrogate and relatively easy to understand (as compared to neural networks). \n",
    "\n",
    "In this lab, you will build an ngram model from the corpus of your choosing. The example is with 'The Great Gatsby' from Project Gutenberg, but there's a code block for any text file on your computer  \n",
    "\n",
    "\n",
    "#### Notes\n",
    "This lab is based heavily on the [nltk documentation](https://www.nltk.org/api/nltk.lm.html)"
   ]
  },
  {
   "cell_type": "code",
   "execution_count": 31,
   "id": "ef35858b",
   "metadata": {},
   "outputs": [],
   "source": [
    "import numpy as np\n",
    "import re\n",
    "\n",
    "import nltk\n",
    "# if you haven't downloaded punkt before, you only need to run the line below once \n",
    "#nltk.download('punkt')\n",
    "from nltk import word_tokenize\n",
    "from nltk import sent_tokenize\n",
    "\n",
    "from nltk.util import bigrams\n",
    "from nltk.lm.preprocessing import padded_everygram_pipeline\n",
    "\n",
    "import requests"
   ]
  },
  {
   "cell_type": "raw",
   "id": "b881ad5b",
   "metadata": {},
   "source": [
    "nltk.download('punkt')"
   ]
  },
  {
   "cell_type": "markdown",
   "id": "e7017636",
   "metadata": {},
   "source": [
    "# Part 1\n",
    "An example of how ngrams are generated"
   ]
  },
  {
   "cell_type": "code",
   "execution_count": 32,
   "id": "de8054bf",
   "metadata": {},
   "outputs": [
    {
     "name": "stdout",
     "output_type": "stream",
     "text": [
      "﻿The Project Gutenberg eBook of The War of the Worlds        This ebook is for the use of anyone any\n"
     ]
    }
   ],
   "source": [
    "# you will need to leverage the requests package\n",
    "r = requests.get(r'https://www.gutenberg.org/cache/epub/36/pg36.txt')\n",
    "war_ot_worlds = r.text\n",
    "\n",
    "# first, remove unwanted new line and tab characters from the text\n",
    "for char in [\"\\n\", \"\\r\", \"\\d\", \"\\t\"]:\n",
    "    war_ot_worlds = war_ot_worlds.replace(char, \" \")\n",
    "\n",
    "# check\n",
    "print(war_ot_worlds[:100])"
   ]
  },
  {
   "cell_type": "code",
   "execution_count": 33,
   "id": "886ac257",
   "metadata": {},
   "outputs": [
    {
     "name": "stdout",
     "output_type": "stream",
     "text": [
      "BOOK ONE  THE COMING OF THE MARTIANS          I.  THE EVE OF THE WAR.      No one would have believed in the last years of the nineteenth century  tha\n"
     ]
    }
   ],
   "source": [
    "# remove the metadata at the beginning - this is slightly different for each book\n",
    "war_ot_worlds = war_ot_worlds[1928:]\n",
    "print(war_ot_worlds[:150])"
   ]
  },
  {
   "cell_type": "markdown",
   "id": "ad39a39e",
   "metadata": {},
   "source": [
    "#### Txt locally\n",
    "If you'd rather use a file on your computer, here's the code -- you just need to save the text file in your local directory, and change the variables throughout. \n",
    "\n",
    "The example is a report from the [Congressional Research Service](https://www.everycrsreport.com/files/2020-11-10_R45178_62d6238caecf6c02ddf495be33b3439f09eed744.pdf) on AI and National Security."
   ]
  },
  {
   "cell_type": "raw",
   "id": "5bfe44ab",
   "metadata": {},
   "source": [
    "# read a file you have stored locally\n",
    "f = open(\"2020-11-10_CRS_ArtificialIntelligenceNationalSecurity.txt\", 'r', encoding=\"utf8\").read() # need UTF8 encoding to read file\n",
    "\n",
    "# first, remove unwanted new line and tab characters from the text\n",
    "for char in [\"\\n\", \"\\r\", \"\\d\", \"\\t\"]:\n",
    "    f = f.replace(char, \" \")\n",
    "\n",
    "# check\n",
    "print(f[:100])"
   ]
  },
  {
   "cell_type": "code",
   "execution_count": 34,
   "id": "8c4c9736",
   "metadata": {},
   "outputs": [
    {
     "name": "stdout",
     "output_type": "stream",
     "text": [
      "['book', 'one', 'the', 'coming', 'of', 'the', 'martians', 'i', 'the', 'eve', 'of', 'the', 'war', 'no', 'one', 'would', 'have', 'believed', 'in', 'the', 'last', 'years', 'of', 'the', 'nineteenth', 'century', 'that', 'this', 'world', 'was', 'being', 'watched', 'keenly', 'and', 'closely', 'by', 'intelligences', 'greater', 'than', 'mans', 'and', 'yet', 'as', 'mortal', 'as', 'his', 'own', 'that', 'as', 'men']\n"
     ]
    }
   ],
   "source": [
    "# this is simplified for demonstration\n",
    "def sample_clean_text(text: str):\n",
    "    # lowercase\n",
    "    text = text.lower()\n",
    "    \n",
    "    # remove punctuation from text\n",
    "    text = re.sub(r\"[^\\w\\s]\", \"\", text)\n",
    "    \n",
    "    # tokenize the text\n",
    "    tokens = nltk.word_tokenize(text)\n",
    "    \n",
    "    # return your tokens\n",
    "    return tokens\n",
    "\n",
    "# call the function\n",
    "sample_tokens = sample_clean_text(text = war_ot_worlds)\n",
    "\n",
    "# check\n",
    "print(sample_tokens[:50])"
   ]
  },
  {
   "cell_type": "code",
   "execution_count": 35,
   "id": "94d828dd",
   "metadata": {},
   "outputs": [
    {
     "data": {
      "text/plain": [
       "[('book', 'one'),\n",
       " ('one', 'the'),\n",
       " ('the', 'coming'),\n",
       " ('coming', 'of'),\n",
       " ('of', 'the'),\n",
       " ('the', 'martians'),\n",
       " ('martians', 'i'),\n",
       " ('i', 'the'),\n",
       " ('the', 'eve'),\n",
       " ('eve', 'of'),\n",
       " ('of', 'the'),\n",
       " ('the', 'war'),\n",
       " ('war', 'no'),\n",
       " ('no', 'one'),\n",
       " ('one', 'would')]"
      ]
     },
     "execution_count": 35,
     "metadata": {},
     "output_type": "execute_result"
    }
   ],
   "source": [
    "# create bigrams from the sample tokens\n",
    "my_bigrams = bigrams(sample_tokens)\n",
    "\n",
    "# check\n",
    "list(my_bigrams)[:15]"
   ]
  },
  {
   "cell_type": "markdown",
   "id": "239deb54",
   "metadata": {},
   "source": [
    "# Part 2 - creating an ngram model\n"
   ]
  },
  {
   "cell_type": "code",
   "execution_count": 36,
   "id": "9aba6849",
   "metadata": {},
   "outputs": [],
   "source": [
    "# 2 is for bigrams\n",
    "n = 2\n",
    "#specify the text you want to use\n",
    "text = war_ot_worlds"
   ]
  },
  {
   "cell_type": "markdown",
   "id": "0be61c83",
   "metadata": {},
   "source": [
    "Now we are going to use an NLTK shortcut for preprocessing. This will:\n",
    "* pad all of the sentences with `<s>` and `</s>` to train on sentence boundaries, too.\n",
    "* create both unigrams and bigrams\n",
    "* create a training set and a full vocab to train on\n",
    "\n",
    "We need to give it a pre-tokenized text (we'll use nltk's tokenizer)"
   ]
  },
  {
   "cell_type": "code",
   "execution_count": 37,
   "id": "6276da8d",
   "metadata": {},
   "outputs": [
    {
     "name": "stdout",
     "output_type": "stream",
     "text": [
      "[['book', 'one', 'the', 'coming', 'of', 'the', 'martians', 'i', '.'], ['the', 'eve', 'of', 'the', 'war', '.'], ['no', 'one', 'would', 'have', 'believed', 'in', 'the', 'last', 'years', 'of', 'the', 'nineteenth', 'century', 'that', 'this', 'world', 'was', 'being', 'watched', 'keenly', 'and', 'closely', 'by', 'intelligences', 'greater', 'than', 'man', '’', 's', 'and', 'yet', 'as', 'mortal', 'as', 'his', 'own', ';', 'that', 'as', 'men', 'busied', 'themselves', 'about', 'their', 'various', 'concerns', 'they', 'were', 'scrutinised', 'and', 'studied', ',', 'perhaps', 'almost', 'as', 'narrowly', 'as', 'a', 'man', 'with', 'a', 'microscope', 'might', 'scrutinise', 'the', 'transient', 'creatures', 'that', 'swarm', 'and', 'multiply', 'in', 'a', 'drop', 'of', 'water', '.'], ['with', 'infinite', 'complacency', 'men', 'went', 'to', 'and', 'fro', 'over', 'this', 'globe', 'about', 'their', 'little', 'affairs', ',', 'serene', 'in', 'their', 'assurance', 'of', 'their', 'empire', 'over', 'matter', '.']]\n"
     ]
    }
   ],
   "source": [
    "# step 1: tokenize the text into sentences\n",
    "sentences = nltk.sent_tokenize(text)\n",
    "\n",
    "# step 2: tokenize each sentence into words\n",
    "tokenized_sentences = [nltk.word_tokenize(sent) for sent in sentences]\n",
    "\n",
    "# step 3: convert each word to lowercase\n",
    "tokenized_text = [[word.lower() for word in sent] for sent in tokenized_sentences]\n",
    "\n",
    "#notice the sentence breaks and what the first 10 items of the tokenized text\n",
    "print(tokenized_text[0:4])"
   ]
  },
  {
   "cell_type": "code",
   "execution_count": 38,
   "id": "1253ba97",
   "metadata": {},
   "outputs": [
    {
     "name": "stdout",
     "output_type": "stream",
     "text": [
      "['no', 'one', 'would', 'have', 'believed', 'in', 'the', 'last', 'years', 'of', 'the', 'nineteenth', 'century', 'that', 'this', 'world', 'was', 'being', 'watched', 'keenly', 'and', 'closely', 'by', 'intelligences', 'greater', 'than', 'man', '’', 's', 'and', 'yet', 'as', 'mortal', 'as', 'his', 'own', ';', 'that', 'as', 'men', 'busied', 'themselves', 'about', 'their', 'various', 'concerns', 'they', 'were', 'scrutinised', 'and', 'studied', ',', 'perhaps', 'almost', 'as', 'narrowly', 'as', 'a', 'man', 'with', 'a', 'microscope', 'might', 'scrutinise', 'the', 'transient', 'creatures', 'that', 'swarm', 'and', 'multiply', 'in', 'a', 'drop', 'of', 'water', '.']\n"
     ]
    }
   ],
   "source": [
    "print(tokenized_text[2])"
   ]
  },
  {
   "cell_type": "markdown",
   "id": "b3b7a3de",
   "metadata": {},
   "source": [
    "Why tokenize sentences and words?\n",
    "\n",
    "We want to be able to retain sentence boundaries to encode that, too."
   ]
  },
  {
   "cell_type": "code",
   "execution_count": 39,
   "id": "9fbc5554",
   "metadata": {},
   "outputs": [
    {
     "name": "stdout",
     "output_type": "stream",
     "text": [
      "['book', 'one', 'the', 'coming', 'of', 'the', 'martians', 'i', '.']\n"
     ]
    }
   ],
   "source": [
    "# notice what the first 10 items of the vocabulary are:\n",
    "#print(text[:10])\n",
    "print(tokenized_text[0][:10])"
   ]
  },
  {
   "cell_type": "code",
   "execution_count": 40,
   "id": "c306af37",
   "metadata": {},
   "outputs": [],
   "source": [
    "# we imported this function from nltk\n",
    "train_data, padded_sents = padded_everygram_pipeline(n, tokenized_text)"
   ]
  },
  {
   "cell_type": "code",
   "execution_count": 41,
   "id": "ca61c962",
   "metadata": {},
   "outputs": [],
   "source": [
    "from nltk.lm import MLE\n",
    "# we imported this function from nltk linear models (lm) \n",
    "# it is for Maximum Likelihood Estimation\n",
    "\n",
    "# MLE is the model we will use\n",
    "lm = MLE(n)"
   ]
  },
  {
   "cell_type": "code",
   "execution_count": 42,
   "id": "c3ecfc43",
   "metadata": {},
   "outputs": [
    {
     "data": {
      "text/plain": [
       "0"
      ]
     },
     "execution_count": 42,
     "metadata": {},
     "output_type": "execute_result"
    }
   ],
   "source": [
    "# currently the vocab length is 0: it has no prior knowledge\n",
    "len(lm.vocab)"
   ]
  },
  {
   "cell_type": "code",
   "execution_count": 43,
   "id": "141795d8",
   "metadata": {},
   "outputs": [
    {
     "data": {
      "text/plain": [
       "7567"
      ]
     },
     "execution_count": 43,
     "metadata": {},
     "output_type": "execute_result"
    }
   ],
   "source": [
    "# fit the model \n",
    "# training data is the bigrams and unigrams \n",
    "# the vocab is all the sentence tokens in the corpus \n",
    "\n",
    "lm.fit(train_data, padded_sents)\n",
    "len(lm.vocab)"
   ]
  },
  {
   "cell_type": "code",
   "execution_count": 44,
   "id": "4455cd61",
   "metadata": {},
   "outputs": [
    {
     "name": "stdout",
     "output_type": "stream",
     "text": [
      "Help on function fit in module nltk.lm.api:\n",
      "\n",
      "fit(self, text, vocabulary_text=None)\n",
      "    Trains the model on a text.\n",
      "    \n",
      "    :param text: Training text as a sequence of sentences.\n",
      "\n"
     ]
    }
   ],
   "source": [
    "help(MLE.fit) # this breaks the following code!  Not sure why?"
   ]
  },
  {
   "cell_type": "code",
   "execution_count": 45,
   "id": "c7470ccd",
   "metadata": {},
   "outputs": [],
   "source": [
    "#tokenized_text[0] "
   ]
  },
  {
   "cell_type": "code",
   "execution_count": 46,
   "id": "941458b2",
   "metadata": {},
   "outputs": [
    {
     "name": "stdout",
     "output_type": "stream",
     "text": [
      "('with', 'infinite', 'complacency', 'men', 'went', 'to', 'and', 'fro', 'over', 'this', 'globe', 'about', 'their', 'little', 'affairs', ',', 'serene', 'in', 'their', 'assurance', 'of', 'their', 'empire', 'over', 'matter', '.')\n"
     ]
    }
   ],
   "source": [
    "# inspect the model's vocabulary. \n",
    "# be sure that a sentence you know exists (from tokenized_text) is in the \n",
    "print(lm.vocab.lookup(tokenized_text[3]))"
   ]
  },
  {
   "cell_type": "code",
   "execution_count": 47,
   "id": "8e06f716",
   "metadata": {},
   "outputs": [
    {
     "name": "stdout",
     "output_type": "stream",
     "text": [
      "('<UNK>', 'is', 'no', 'spoon', '.')\n"
     ]
    }
   ],
   "source": [
    "print(lm.vocab.lookup([\"There\", \"is\", \"no\", \"spoon\", \".\"]))"
   ]
  },
  {
   "cell_type": "code",
   "execution_count": 48,
   "id": "1d09baf1",
   "metadata": {},
   "outputs": [
    {
     "name": "stdout",
     "output_type": "stream",
     "text": [
      "['There', 'is', 'no', 'spoon', '.']\n"
     ]
    }
   ],
   "source": [
    "my_list = [\"There\", \"is\", \"no\", \"spoon\", \".\"]\n",
    "print(my_list)"
   ]
  },
  {
   "cell_type": "code",
   "execution_count": 49,
   "id": "67a85cd9",
   "metadata": {},
   "outputs": [
    {
     "name": "stdout",
     "output_type": "stream",
     "text": [
      "('<UNK>', 'is', 'no', 'spoon', '.')\n"
     ]
    }
   ],
   "source": [
    "print(lm.vocab.lookup(my_list))"
   ]
  },
  {
   "cell_type": "code",
   "execution_count": 50,
   "id": "4af78e77",
   "metadata": {},
   "outputs": [
    {
     "name": "stdout",
     "output_type": "stream",
     "text": [
      "book\n"
     ]
    }
   ],
   "source": [
    "print(lm.vocab.lookup(tokenized_text[0][0])) "
   ]
  },
  {
   "cell_type": "code",
   "execution_count": 51,
   "id": "d820f1f0",
   "metadata": {},
   "outputs": [
    {
     "name": "stdout",
     "output_type": "stream",
     "text": [
      "('then', 'wear', 'the', 'gold', 'hat', '<UNK>', '.')\n"
     ]
    }
   ],
   "source": [
    "# see what happens when we include a word that is not in the vocab. \n",
    "print(lm.vocab.lookup('then wear the gold hat iphone .'.split()))"
   ]
  },
  {
   "cell_type": "markdown",
   "id": "0207d680",
   "metadata": {},
   "source": [
    "What did the model replace 'iphone' with? \n",
    "\n",
    "Given that it didn't just return an \"out of vocab\" error, what does that mean about our model? \n",
    "\n",
    "Our model added '<UNK>' to our vocabulary so that when we train it on new data it will not crash when it encounters wordls that are not in our corpus."
   ]
  },
  {
   "cell_type": "code",
   "execution_count": 52,
   "id": "da9cf2d4",
   "metadata": {},
   "outputs": [
    {
     "name": "stdout",
     "output_type": "stream",
     "text": [
      "1\n"
     ]
    },
    {
     "data": {
      "text/plain": [
       "1.2673628713373213e-05"
      ]
     },
     "execution_count": 52,
     "metadata": {},
     "output_type": "execute_result"
    }
   ],
   "source": [
    "# how many times does alien appear in the model?\n",
    "print(lm.counts['alien'])\n",
    "\n",
    "# what is the probability of alien appearing? \n",
    "# this is technically the relative frequency of alien appearing \n",
    "lm.score('alien')"
   ]
  },
  {
   "cell_type": "code",
   "execution_count": 53,
   "id": "266346a2",
   "metadata": {},
   "outputs": [
    {
     "name": "stdout",
     "output_type": "stream",
     "text": [
      "25\n"
     ]
    },
    {
     "data": {
      "text/plain": [
       "0.0003168407178343303"
      ]
     },
     "execution_count": 53,
     "metadata": {},
     "output_type": "execute_result"
    }
   ],
   "source": [
    "# how many times does world appear in the model?\n",
    "print(lm.counts['world'])\n",
    "\n",
    "# what is the probability of world appearing? \n",
    "# this is technically the relative frequency of world appearing \n",
    "lm.score('world')"
   ]
  },
  {
   "cell_type": "code",
   "execution_count": 54,
   "id": "f9369bed",
   "metadata": {},
   "outputs": [
    {
     "name": "stdout",
     "output_type": "stream",
     "text": [
      "0\n"
     ]
    },
    {
     "data": {
      "text/plain": [
       "0.0"
      ]
     },
     "execution_count": 54,
     "metadata": {},
     "output_type": "execute_result"
    }
   ],
   "source": [
    "# how often does (world, and) occur and what is the relative frequency?\n",
    "print(lm.counts[['world']]['war'])\n",
    "lm.score('war', 'world'.split())"
   ]
  },
  {
   "cell_type": "code",
   "execution_count": 55,
   "id": "a82045b6",
   "metadata": {},
   "outputs": [
    {
     "name": "stdout",
     "output_type": "stream",
     "text": [
      "162\n"
     ]
    },
    {
     "data": {
      "text/plain": [
       "0.0020531278515664607"
      ]
     },
     "execution_count": 55,
     "metadata": {},
     "output_type": "execute_result"
    }
   ],
   "source": [
    "# how many times does martians appear in the model?\n",
    "print(lm.counts['martians'])\n",
    "\n",
    "# what is the probability of martians appearing? \n",
    "# this is technically the relative frequency of martians appearing \n",
    "lm.score('martians')"
   ]
  },
  {
   "cell_type": "code",
   "execution_count": 56,
   "id": "ab8c7d48",
   "metadata": {},
   "outputs": [
    {
     "name": "stdout",
     "output_type": "stream",
     "text": [
      "16\n"
     ]
    },
    {
     "data": {
      "text/plain": [
       "0.09876543209876543"
      ]
     },
     "execution_count": 56,
     "metadata": {},
     "output_type": "execute_result"
    }
   ],
   "source": [
    "# how often does (martians, were) occur and what is the relative frequency?\n",
    "print(lm.counts[['martians']]['were'])\n",
    "lm.score('were', 'martians'.split())"
   ]
  },
  {
   "cell_type": "code",
   "execution_count": 57,
   "id": "83ca4cc5",
   "metadata": {},
   "outputs": [
    {
     "data": {
      "text/plain": [
       "0.09876543209876543"
      ]
     },
     "execution_count": 57,
     "metadata": {},
     "output_type": "execute_result"
    }
   ],
   "source": [
    "# From NLTK Documentation:\n",
    "# Here’s how you get the score for a word given some preceding context. \n",
    "\n",
    "# For example we want to know what is the chance that “were” is preceded by “martians”.\n",
    "\n",
    "lm.score(\"were\", [\"martians\"])"
   ]
  },
  {
   "cell_type": "code",
   "execution_count": 58,
   "id": "174f226e",
   "metadata": {},
   "outputs": [
    {
     "data": {
      "text/plain": [
       "0.0"
      ]
     },
     "execution_count": 58,
     "metadata": {},
     "output_type": "execute_result"
    }
   ],
   "source": [
    "# what is the score of 'UNK'? \n",
    "\n",
    "lm.score(\"<UNK>\")"
   ]
  },
  {
   "cell_type": "markdown",
   "id": "d84c0444",
   "metadata": {},
   "source": [
    "Does the relative frequency of 'UNK' change your assumption about how the model behaves? \n",
    "\n",
    "How should we change our model to account for the fact the `<UNK>` words are not accounted for by the model? \n",
    "\n",
    "(We would want to implement Laplace smoothing or something similar to account for the unknown words per [NATURAL LANGUAGE PROCESSING N-gram language models: Part 1: Unigram model by Khanh Nguyen](https://medium.com/mti-technology/n-gram-language-model-b7c2fc322799)\n",
    "\n",
    "Note: *Programmatically implementing this solution is beyond the scope of this course.*"
   ]
  },
  {
   "cell_type": "markdown",
   "id": "5d621b05",
   "metadata": {},
   "source": [
    "## Generate text\n",
    "We want to start our sentence with a word, and use that to predict all the words that come after that. We'll specify how long it should be. \n",
    "\n",
    "There is a certain amount of randomness encoded into n-gram models. This prevents a model from becoming entirely deterministic. Maximum Likelihood Estimation without some degree of randomness will only produce the most likely result every time. Setting Random Seed means we will get the same result every time. "
   ]
  },
  {
   "cell_type": "code",
   "execution_count": 59,
   "id": "6e217db6",
   "metadata": {},
   "outputs": [
    {
     "name": "stdout",
     "output_type": "stream",
     "text": [
      "['park', ',', 'and', 'down', 'the', 'railway', 'the', 'cart', '.', '</s>', 'air', '.', '</s>', 'a', 'persuasion', 'that', 'for', 'places', 'we', 'all']\n"
     ]
    }
   ],
   "source": [
    "# generate a 20 word sentence starting with the word, 'martians'\n",
    "\n",
    "print(lm.generate(20, text_seed= 'martians', random_seed=42))"
   ]
  },
  {
   "cell_type": "markdown",
   "id": "8e91b7a6",
   "metadata": {},
   "source": [
    "This next code block is just to clean up the tokenized words and make them easier on human eyes. It is literally a detokenizer, which removes some extraneous text markup and reconciles some words back together. "
   ]
  },
  {
   "cell_type": "code",
   "execution_count": 60,
   "id": "5113674e",
   "metadata": {},
   "outputs": [],
   "source": [
    "from nltk.tokenize.treebank import TreebankWordDetokenizer\n",
    "\n",
    "detokenize = TreebankWordDetokenizer().detokenize\n",
    "\n",
    "def generate_sent(lm, num_words, text_seed, random_seed=42):\n",
    "    \"\"\"\n",
    "    :param model: An ngram language model from `nltk.lm.model`.\n",
    "    :param num_words: Max no. of words to generate.\n",
    "    :param random_seed: Seed value for random.\n",
    "    \"\"\"\n",
    "    content = []\n",
    "    for token in lm.generate(num_words, text_seed=text_seed, random_seed=random_seed):\n",
    "        if token == '<s>':\n",
    "            continue\n",
    "        if token == '</s>':\n",
    "            break\n",
    "        content.append(token)\n",
    "    return detokenize(content)"
   ]
  },
  {
   "cell_type": "code",
   "execution_count": null,
   "id": "2846e34e",
   "metadata": {},
   "outputs": [],
   "source": [
    "# Now generate sentences that look much nicer. \n",
    "generate_sent(lm, 20, text_seed='martians', random_seed = 42)"
   ]
  },
  {
   "cell_type": "code",
   "execution_count": null,
   "id": "347d4032",
   "metadata": {},
   "outputs": [],
   "source": []
  },
  {
   "cell_type": "code",
   "execution_count": null,
   "id": "86431796",
   "metadata": {},
   "outputs": [],
   "source": []
  },
  {
   "cell_type": "markdown",
   "id": "173ad126",
   "metadata": {},
   "source": [
    "Try a few more sentences, and try out another text. Once you are satisfied with what ngrams can (and cannot) do - post your code to your Github or another site. "
   ]
  }
 ],
 "metadata": {
  "kernelspec": {
   "display_name": "Python 3 (ipykernel)",
   "language": "python",
   "name": "python3"
  },
  "language_info": {
   "codemirror_mode": {
    "name": "ipython",
    "version": 3
   },
   "file_extension": ".py",
   "mimetype": "text/x-python",
   "name": "python",
   "nbconvert_exporter": "python",
   "pygments_lexer": "ipython3",
   "version": "3.11.5"
  }
 },
 "nbformat": 4,
 "nbformat_minor": 5
}
